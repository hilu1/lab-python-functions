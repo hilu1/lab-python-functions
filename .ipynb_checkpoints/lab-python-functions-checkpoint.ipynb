{
 "cells": [
  {
   "cell_type": "markdown",
   "id": "25d7736c-ba17-4aff-b6bb-66eba20fbf4e",
   "metadata": {},
   "source": [
    "# Lab | Functions"
   ]
  },
  {
   "cell_type": "markdown",
   "id": "0c581062-8967-4d93-b06e-62833222f930",
   "metadata": {
    "tags": []
   },
   "source": [
    "## Exercise: Managing Customer Orders with Functions\n",
    "\n",
    "In the previous exercise, you improved the code for managing customer orders by using loops and flow control. Now, let's take it a step further and refactor the code by introducing functions.\n",
    "\n",
    "Follow the steps below to complete the exercise:\n",
    "\n",
    "1. Define a function named `initialize_inventory` that takes `products` as a parameter. Inside the function, implement the code for initializing the inventory dictionary using a loop and user input.\n",
    "\n",
    "2. Define a function named `get_customer_orders` that takes no parameters. Inside the function, implement the code for prompting the user to enter the product names using a loop. The function should return the `customer_orders` set.\n",
    "\n",
    "3. Define a function named `update_inventory` that takes `customer_orders` and `inventory` as parameters. Inside the function, implement the code for updating the inventory dictionary based on the customer orders.\n",
    "\n",
    "4. Define a function named `calculate_order_statistics` that takes `customer_orders` and `products` as parameters. Inside the function, implement the code for calculating the order statistics (total products ordered, and percentage of unique products ordered). The function should return these values.\n",
    "\n",
    "5. Define a function named `print_order_statistics` that takes `order_statistics` as a parameter. Inside the function, implement the code for printing the order statistics.\n",
    "\n",
    "6. Define a function named `print_updated_inventory` that takes `inventory` as a parameter. Inside the function, implement the code for printing the updated inventory.\n",
    "\n",
    "7. Call the functions in the appropriate sequence to execute the program and manage customer orders.\n",
    "\n",
    "Hints for functions:\n",
    "\n",
    "- Consider the input parameters required for each function and their return values.\n",
    "- Utilize function parameters and return values to transfer data between functions.\n",
    "- Test your functions individually to ensure they work correctly.\n",
    "\n",
    "\n"
   ]
  },
  {
   "cell_type": "code",
   "execution_count": 6,
   "id": "f8a8e703-56e9-4304-af04-51c7ec0c3188",
   "metadata": {},
   "outputs": [
    {
     "name": "stdin",
     "output_type": "stream",
     "text": [
      "Enter the initial quantity for t-shirt:  10\n",
      "Enter the initial quantity for mug:  20\n",
      "Enter the initial quantity for hat:  10\n",
      "Enter the initial quantity for book:  30\n",
      "Enter the initial quantity for keychain:  15\n"
     ]
    },
    {
     "name": "stdout",
     "output_type": "stream",
     "text": [
      "\n",
      "Final Inventory:\n",
      "t-shirt: 10\n",
      "mug: 20\n",
      "hat: 10\n",
      "book: 30\n",
      "keychain: 15\n"
     ]
    }
   ],
   "source": [
    "# List of available products\n",
    "products = [\"t-shirt\", \"mug\", \"hat\", \"book\", \"keychain\"]\n",
    "\n",
    "# Initialize inventory\n",
    "inventory = initialize_inventory(products)\n",
    "\n",
    "# Display the initialized inventory\n",
    "print(\"\\nFinal Inventory:\")\n",
    "for item, quantity in inventory.items():\n",
    "    print(f\"{item}: {quantity}\")\n",
    "\n"
   ]
  },
  {
   "cell_type": "code",
   "execution_count": 10,
   "id": "ba82d282-5fcc-4837-b8d0-7e0a00ec9e7a",
   "metadata": {},
   "outputs": [
    {
     "name": "stdout",
     "output_type": "stream",
     "text": [
      "Enter product names one by one (type 'done' to finish):\n"
     ]
    },
    {
     "name": "stdin",
     "output_type": "stream",
     "text": [
      "Enter product name:  t-shirt\n",
      "Enter product name:  mug\n",
      "Enter product name:  hat\n",
      "Enter product name:  book\n",
      "Enter product name:  done\n"
     ]
    },
    {
     "name": "stdout",
     "output_type": "stream",
     "text": [
      "\n",
      "Customer Orders:\n",
      "{'t-shirt', 'hat', 'mug', 'book'}\n"
     ]
    }
   ],
   "source": [
    "orders = get_customer_orders()\n",
    "print(\"\\nCustomer Orders:\")\n",
    "print(orders)\n",
    "\n"
   ]
  },
  {
   "cell_type": "code",
   "execution_count": 36,
   "id": "2572f120-83f8-4173-ae58-beeb67048bc6",
   "metadata": {},
   "outputs": [
    {
     "name": "stdout",
     "output_type": "stream",
     "text": [
      "t-shirt ordered. Remaining stock: 9\n",
      "mug ordered. Remaining stock: 19\n",
      "hat ordered. Remaining stock: 9\n",
      "book ordered. Remaining stock: 29\n",
      "Sorry, pen is out of stock or not available.\n",
      "\n",
      "Updated Inventory:\n",
      "t-shirt: 9\n",
      "mug: 19\n",
      "hat: 9\n",
      "book: 29\n",
      "keychain: 15\n"
     ]
    }
   ],
   "source": [
    "def update_inventory(customer_orders, inventory):\n",
    "    \"\"\"\n",
    "    Updates the inventory based on customer orders.\n",
    "\n",
    "    Parameters:\n",
    "        customer_orders (set): A set of ordered product names.\n",
    "        inventory (dict): A dictionary with product names as keys and stock quantities as values.\n",
    "\n",
    "    Returns:\n",
    "        dict: The updated inventory after processing the customer orders.\n",
    "    \"\"\"\n",
    "    for product in customer_orders:\n",
    "        if product in inventory and inventory[product] > 0:\n",
    "            inventory[product] -= 1  # Reduce stock by 1 for each ordered item\n",
    "            print(f\"{product} ordered. Remaining stock: {inventory[product]}\")\n",
    "        else:\n",
    "            print(f\"Sorry, {product} is out of stock or not available.\")\n",
    "\n",
    "    return inventory\n",
    "\n",
    "# Example usage\n",
    "if __name__ == \"__main__\":\n",
    "    # Sample inventory\n",
    "    inventory = {\"t-shirt\": 10, \"mug\": 20, \"hat\": 10, \"book\": 30, \"keychain\": 15}\n",
    "\n",
    "    # Customer orders (example input)\n",
    "    customer_orders = {\"t-shirt\", \"mug\", \"hat\", \"book\", \"pen\"}  # 'pen' is not in inventory\n",
    "\n",
    "    # Update inventory\n",
    "    updated_inventory = update_inventory(customer_orders, inventory)\n",
    "\n",
    "    # Display the updated inventory\n",
    "    print(\"\\nUpdated Inventory:\")\n",
    "    for item, quantity in updated_inventory.items():\n",
    "        print(f\"{item}: {quantity}\")\n"
   ]
  },
  {
   "cell_type": "code",
   "execution_count": 42,
   "id": "2eb98119-e256-4932-8cce-4a427e89e385",
   "metadata": {},
   "outputs": [
    {
     "name": "stdout",
     "output_type": "stream",
     "text": [
      "Total products ordered: 4\n",
      "Percentage of unique products ordered: 80.00%\n"
     ]
    }
   ],
   "source": [
    "def calculate_order_statistics(customer_orders, products):\n",
    "    \"\"\"\n",
    "    Calculates order statistics based on customer orders and available products.\n",
    "\n",
    "    Parameters:\n",
    "        customer_orders (set): A set of ordered product names.\n",
    "        products (list): A list of all available product names.\n",
    "\n",
    "    Returns:\n",
    "        tuple: (total products ordered, percentage of unique products ordered)\n",
    "    \"\"\"\n",
    "    total_products_ordered = len(customer_orders)\n",
    "    unique_product_percentage = (total_products_ordered / len(products)) * 100 if products else 0\n",
    "\n",
    "    return total_products_ordered, unique_product_percentage\n",
    "\n",
    "if __name__ == \"__main__\":\n",
    "    # List of available products\n",
    "    products = [\"t-shirt\", \"mug\", \"hat\", \"book\", \"keychain\"]\n",
    "\n",
    "    # customer orders\n",
    "    customer_orders = {\"t-shirt\", \"mug\", \"book\", \"hat\"}\n",
    "\n",
    "    # Calculate order statistics\n",
    "    total_ordered, percentage_unique = calculate_order_statistics(customer_orders, products)\n",
    "\n",
    "    # Display results\n",
    "    print(f\"Total products ordered: {total_ordered}\")\n",
    "    print(f\"Percentage of unique products ordered: {percentage_unique:.2f}%\")\n"
   ]
  },
  {
   "cell_type": "code",
   "execution_count": 50,
   "id": "84b5632a-e5d7-4f8b-8f9b-cfc40ad0ced5",
   "metadata": {},
   "outputs": [
    {
     "name": "stdout",
     "output_type": "stream",
     "text": [
      "\n",
      "Order Statistics:\n",
      "Total products ordered: 4\n",
      "Percentage of unique products ordered: 80.00%\n"
     ]
    }
   ],
   "source": [
    "# Define a function named print_order_statistics that takes order_statistics as a parameter\n",
    "if __name__ == \"__main__\":\n",
    "    # List of available products\n",
    "    products = [\"t-shirt\", \"mug\", \"hat\", \"book\", \"keychain\"]\n",
    "\n",
    "    # Example customer orders\n",
    "    customer_orders = {\"t-shirt\", \"mug\", \"book\", \"hat\"}\n",
    "\n",
    "    # Calculate order statistics\n",
    "    order_statistics = calculate_order_statistics(customer_orders, products)\n",
    "\n",
    "    # Print order statistics\n",
    "    print_order_statistics(order_statistics)\n"
   ]
  },
  {
   "cell_type": "code",
   "execution_count": 58,
   "id": "c922ebfa-663b-4f62-a3f3-d906401cb6fa",
   "metadata": {},
   "outputs": [
    {
     "name": "stdout",
     "output_type": "stream",
     "text": [
      "\n",
      "Updated Inventory:\n",
      "t-shirt: 9\n",
      "mug: 19\n",
      "hat: 9\n",
      "book: 29\n",
      "keychain: 15\n"
     ]
    }
   ],
   "source": [
    "def print_updated_inventory(inventory):\n",
    "    \"\"\"\n",
    "    Prints the updated inventory.\n",
    "\n",
    "    Parameters:\n",
    "        inventory (dict): A dictionary with product names as keys and stock quantities as values.\n",
    "    \"\"\"\n",
    "    print(\"\\nUpdated Inventory:\")\n",
    "    for product, quantity in inventory.items():\n",
    "        print(f\"{product}: {quantity}\")\n",
    "\n",
    "# Example usage\n",
    "if __name__ == \"__main__\":\n",
    "    # Sample updated inventory\n",
    "    updated_inventory = {\"t-shirt\": 9, \"mug\": 19, \"hat\": 9, \"book\": 29, \"keychain\": 15}\n",
    "\n",
    "    # Print the updated inventory\n",
    "    print_updated_inventory(updated_inventory)\n"
   ]
  },
  {
   "cell_type": "code",
   "execution_count": null,
   "id": "7f890349-cf59-4d6b-b6af-d5627fc96a56",
   "metadata": {},
   "outputs": [],
   "source": []
  }
 ],
 "metadata": {
  "kernelspec": {
   "display_name": "Python [conda env:base] *",
   "language": "python",
   "name": "conda-base-py"
  },
  "language_info": {
   "codemirror_mode": {
    "name": "ipython",
    "version": 3
   },
   "file_extension": ".py",
   "mimetype": "text/x-python",
   "name": "python",
   "nbconvert_exporter": "python",
   "pygments_lexer": "ipython3",
   "version": "3.12.7"
  }
 },
 "nbformat": 4,
 "nbformat_minor": 5
}
